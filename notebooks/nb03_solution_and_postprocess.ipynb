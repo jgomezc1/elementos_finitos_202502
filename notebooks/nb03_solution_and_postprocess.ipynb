{
 "cells": [
  {
   "cell_type": "markdown",
   "metadata": {
    "raw_mimetype": "text/latex"
   },
   "source": [
    "(c) Juan Gomez 2019. Thanks to Universidad EAFIT for support. This material is part of the course Introduction to Finite Element Analysis"
   ]
  },
  {
   "cell_type": "markdown",
   "metadata": {},
   "source": [
    "# Solution of the equlibrium equations and post-processing"
   ]
  },
  {
   "cell_type": "markdown",
   "metadata": {},
   "source": [
    "## Introduction\n",
    "\n",
    "Having solved the problem of assembly of the global equilibrium equations for the full finite element mesh we are now ready to find the unknown nodal displacements. We won't be dealing directly with solvers but will use Python's linear algebra modules. With the nodal displacements available we will be ready to compute secondary variables (e.g., stresses and strains).In this Notebook we will also use most of the available subroutines of the finite element code **SolidsPy** (Gomez and Guarin-Zapata, 2018). Most of these subroutines follow the same structure of the implementations conducted so far. **After completing this notebook you should be able to:**\n",
    "\n",
    "* Identify well-possed systems of global equilibrium equations within the context of the finite element method.\n",
    "\n",
    "* Perform computations of secondary variables using as input nodal displacements.\n",
    "\n",
    "* Understand the algorithmic aspects involved in the post-processing and visualization of typical finite element solutions.\n"
   ]
  },
  {
   "cell_type": "markdown",
   "metadata": {},
   "source": [
    "## Global equilibrium\n",
    "\n",
    "In previous sessions it was shown that the force equilibriun equations in terms of consistent nodal forces for the complete finite element model could be written (after discretizing the prinicple of virtual) work like:\n",
    "\n",
    "$$\n",
    "\\left\\{F_\\sigma\\right\\}-\\left\\{F_V\\right\\}-\\left\\{F_t\\right\\}=0\n",
    "$$\n",
    "\n",
    "where:\n",
    "* $\\left\\{F_\\sigma\\right\\}$ is the global internal force vector representing element stresses: $\\left\\{F_\\sigma\\right\\}=\\left[K^G\\right]\\left\\{U^G\\right\\}$.\n",
    "\n",
    "\n",
    "* $\\left\\{F_V\\right\\}$  is the global force vector corresponding to external body forces:$F_V=\\int_VN^Tf\\operatorname dV$.\n",
    "\n",
    "\n",
    "* $\\left\\{F_t\\right\\}$ is the global force vector corresponding to external surface tractions: $F_t=\\int_SN^Tt\\operatorname dS.$\n",
    "\n",
    "At this point it is also clear that the global stiffnes matriz is built through an assembly operation of independent element contributions like:\n",
    "\n",
    "$$\n",
    "\\left[K^G\\right]=\\bigwedge_{i=1}^{Numel} k^i .\n",
    "$$\n",
    "\n",
    "Defining a total external loads vector $RHS^G$ as:\n",
    "\n",
    "$$\n",
    "RHS^G=F_V+F_t\n",
    "$$\n",
    "\n",
    "we can write the equlibrium relationship like:\n",
    "\n",
    "$$\n",
    "\\left[K^G\\right]\\left\\{U^G\\right\\}=\\left\\{RHS^G\\right\\}\n",
    "$$\n",
    "\n",
    "and where $\\left\\{U^G\\right\\}$ is the vector of global nodal displacements.\n",
    "\n",
    "\n",
    "If apropriate boundary conditions are imposed upon $\\left[K^G\\right]$ the system of equations governing the static equilibrium of the system can be solved in the unknown nodal displacements $\\left\\{U^G\\right\\}$.\n",
    "\n",
    "\n",
    "\n",
    "With $\\left\\{U^G\\right\\}$ at hand, this global vector of unknown nodal displacements is extended into $\\left\\{U^C\\right\\}$ to include also those zero-valued prescribed displacements corresponding to the imposed displacement boundary conditions. This operation is indicated like:\n",
    "\n",
    "$$\n",
    "U^G\\rightarrow U^C.\n",
    "$$\n",
    "\n",
    "In a subsequent, operation the global nodal displacements are distributed or **scattered** to each element using also the data contained in the boundary conditions array **IBC()**. This operation is schematized in the figure below and indicated by: \n",
    "\n",
    "$$\n",
    "U^C\\rightarrow U^Q\n",
    "$$\n",
    "\n",
    "where specific displacements from $U^C$ are extracted to form the displacemnts vector from element $Q$.\n",
    "\n",
    "<center><img src=\"img/scatter.png\" alt=\"files\" style=\"width:500px\"></center>\n",
    "\n",
    "\n",
    "In the final post-processing step we proceed one element at a time and use the local nodal displacements vector $U^Q$ to compute strains and stresses using the strain-displacement interpolator $\\left[B\\right]$ and the constitutive matrix $C$ as follows:\n",
    "\n",
    "\n",
    "$$\n",
    "\\left\\{\\varepsilon\\right\\}\\;=\\left[B\\right]\\left\\{U^Q\\right\\}\n",
    "$$\n",
    "\n",
    "and\n",
    "\n",
    "$$\n",
    "\\left\\{\\sigma\\right\\}\\;=\\left[C\\right]\\left[B\\right]\\left\\{U^Q\\right\\}.\n",
    "$$\n",
    "\n",
    "**Questions:**\n",
    "\n",
    "**(i) For element $2$ in the simple mesh problem shown in the figure plot a scattering diagram like the one shown in the figure above.**\n"
   ]
  },
  {
   "cell_type": "markdown",
   "metadata": {},
   "source": [
    "## A complete solution step wih SolidsPy.\n",
    "\n",
    "\n",
    "We now use subroutines implemented in previous notebooks and also available in the Python code **SolidsPy** to solve the simple mesh problem studied so far and shown in the figure.\n",
    "\n",
    "<center><img src=\"img/assembled.png\" alt=\"files\" style=\"width:500px\"></center>\n",
    "\n",
    "The basic solution steps, after reading the input files correspond to:\n",
    "\n",
    "* (i) Determination of the boundary conditions array and assembly operator.\n",
    "\n",
    "* (ii) Assembly of the global matrix of stiffness coeffcients and global external loads vector.\n",
    "\n",
    "* (iii) Solution of the system of equations.\n",
    "\n",
    "* (iv) Post-processing.\n",
    "\n",
    "**Question:**\n",
    "\n",
    "**¿ If the plate shown in the figure is loaded by vertical nodal forces applied at the top surface indicate a minimum set of prescribed displacement boundary conditions for the system to have a unique solution?**"
   ]
  },
  {
   "cell_type": "markdown",
   "metadata": {},
   "source": [
    "### SolidsPy modules\n",
    "\n",
    "To execute most of this notebook the Python finite element code [SolidsPy](https://github.com/AppliedMechanics-EAFIT/SolidsPy) must be properly installed. Here we will import 3 modules, namely:\n",
    "\n",
    "* assemutil containing assembling subroutines similar to those implemented in previous notebooks.\n",
    "\n",
    "* solutil containing calls to solvers of linear systems of equations.\n",
    "\n",
    "* postprocessor containg a series of subroutines for secondary calculation and visualization of finite element solutions.\n"
   ]
  },
  {
   "cell_type": "code",
   "execution_count": null,
   "metadata": {},
   "outputs": [],
   "source": [
    "import sys\n",
    "import os\n",
    "\n",
    "# Construct the full path to the source code directory relative to the current working directory\n",
    "source_code_path = os.path.join(os.getcwd(), \"..\", \"solidspy\")\n",
    "\n",
    "# Add the source code directory to the Python path\n",
    "sys.path.append(source_code_path)\n"
   ]
  },
  {
   "cell_type": "code",
   "execution_count": null,
   "metadata": {},
   "outputs": [],
   "source": [
    "%matplotlib inline        \n",
    "import matplotlib.pyplot as plt\n",
    "import numpy as np\n",
    "import sympy as sym\n",
    "import assemutil as ass\n",
    "import postprocesor as pos\n",
    "import solutil as sol"
   ]
  },
  {
   "cell_type": "code",
   "execution_count": null,
   "metadata": {},
   "outputs": [],
   "source": [
    "def readin():\n",
    "    nodes    = np.loadtxt('files/' + 'Gnodes.txt', ndmin=2)\n",
    "    mats     = np.loadtxt('files/' + 'Gmater.txt', ndmin=2)\n",
    "    elements = np.loadtxt('files/' + 'Gelements.txt', ndmin=2, dtype=int)\n",
    "    loads    = np.loadtxt('files/' + 'Gloads.txt', ndmin=2)\n",
    "\n",
    "    return nodes, mats, elements, loads\n",
    "\n",
    "\n",
    "nodes, mats, elements, loads = readin()\n",
    "elements"
   ]
  },
  {
   "cell_type": "code",
   "execution_count": null,
   "metadata": {},
   "outputs": [],
   "source": [
    "DME, IBC, neq = ass.DME(nodes, elements)\n",
    "DME"
   ]
  },
  {
   "cell_type": "code",
   "execution_count": null,
   "metadata": {},
   "outputs": [],
   "source": [
    "KG = ass.assembler(elements, mats, nodes, neq, DME)\n",
    "RHSG = ass.loadasem(loads, IBC, neq)\n",
    "UG = sol.static_sol(KG, RHSG)\n",
    "UC = pos.complete_disp(IBC, nodes, UG)\n",
    "E_nodes, S_nodes = pos.strain_nodes(nodes, elements, mats, UC)\n",
    "pos.fields_plot(elements, nodes, UC, E_nodes=E_nodes, S_nodes=S_nodes)"
   ]
  },
  {
   "cell_type": "markdown",
   "metadata": {},
   "source": [
    "### Glossary of terms\n",
    "\n",
    "**Global equlibrium:** Satic equlibrium equations in terms of internal and external forces for the complete finite element model.\n",
    "\n",
    "**Postprocessing:** Set of computational tasks aied at producing visualizations of primary and secondary data using as input the found nodal point displacements.\n",
    "\n",
    "**Scattering process:** Procedure that distributes nodal point displacements from the global displacement vector to each element in the mesh.\n",
    "\n",
    "**Solubility conditions:** Minimum reuirements in terms of displacement boundary conditions to guarantee a unique solution of the discrete finite elment equlibrium equations."
   ]
  },
  {
   "cell_type": "markdown",
   "metadata": {},
   "source": [
    "## Class activity.\n",
    "\n",
    "* (i) Write a pseudo-code to perform the scattering process where the nodal displacements from the global vector are passed to each element. Define the input and output parameters, clearly.\n",
    "\n",
    "* (ii) Identify the subroutine (or piece of code) within the program **SolidsPy** where the scattering process takes place.\n",
    "\n",
    "* (iii) Refine the mesh for the example problem by adding more elements while keeping the same size for the computational domain and indicate the changes in the displacement for the top surface.\n"
   ]
  },
  {
   "cell_type": "markdown",
   "metadata": {},
   "source": [
    "### References\n",
    "\n",
    "* Bathe, Klaus-Jürgen. (2006) Finite element procedures. Klaus-Jurgen Bathe. Prentice Hall International.\n",
    "\n",
    "* Juan Gómez, Nicolás Guarín-Zapata (2018). SolidsPy: 2D-Finite Element Analysis with Python, <https://github.com/AppliedMechanics-EAFIT/SolidsPy>."
   ]
  },
  {
   "cell_type": "code",
   "execution_count": null,
   "metadata": {},
   "outputs": [],
   "source": []
  }
 ],
 "metadata": {
  "celltoolbar": "Raw Cell Format",
  "kernelspec": {
   "display_name": "Python 3 (ipykernel)",
   "language": "python",
   "name": "python3"
  },
  "language_info": {
   "codemirror_mode": {
    "name": "ipython",
    "version": 3
   },
   "file_extension": ".py",
   "mimetype": "text/x-python",
   "name": "python",
   "nbconvert_exporter": "python",
   "pygments_lexer": "ipython3",
   "version": "3.11.7"
  },
  "varInspector": {
   "cols": {
    "lenName": 16,
    "lenType": 16,
    "lenVar": 40
   },
   "kernels_config": {
    "python": {
     "delete_cmd_postfix": "",
     "delete_cmd_prefix": "del ",
     "library": "var_list.py",
     "varRefreshCmd": "print(var_dic_list())"
    },
    "r": {
     "delete_cmd_postfix": ") ",
     "delete_cmd_prefix": "rm(",
     "library": "var_list.r",
     "varRefreshCmd": "cat(var_dic_list()) "
    }
   },
   "types_to_exclude": [
    "module",
    "function",
    "builtin_function_or_method",
    "instance",
    "_Feature"
   ],
   "window_display": false
  }
 },
 "nbformat": 4,
 "nbformat_minor": 4
}
